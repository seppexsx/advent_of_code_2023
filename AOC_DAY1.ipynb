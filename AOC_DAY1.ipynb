{
 "cells": [
  {
   "cell_type": "markdown",
   "id": "1eb56147",
   "metadata": {},
   "source": [
    "part 1"
   ]
  },
  {
   "cell_type": "code",
   "execution_count": 12,
   "id": "211dbf05",
   "metadata": {},
   "outputs": [
    {
     "name": "stdout",
     "output_type": "stream",
     "text": [
      "54951\n"
     ]
    }
   ],
   "source": [
    "sum = 0\n",
    "with open('AOC_DAY1P1_IN.txt') as input:\n",
    "    while True:\n",
    "        line = input.readline()\n",
    "        if not line:\n",
    "            break\n",
    "        digits = [int(i) for i in [*line] if i.isdigit()]\n",
    "        sum += int('%d%d' % (digits[0], digits[-1]))\n",
    "        \n",
    "print(sum)"
   ]
  },
  {
   "cell_type": "markdown",
   "id": "759a6d0f",
   "metadata": {},
   "source": [
    "part 2"
   ]
  },
  {
   "cell_type": "code",
   "execution_count": 67,
   "id": "40b5871a",
   "metadata": {},
   "outputs": [
    {
     "name": "stdout",
     "output_type": "stream",
     "text": [
      "55218\n"
     ]
    }
   ],
   "source": [
    "import re\n",
    "sum = 0\n",
    "digit_words = ['one','two','three','four','five','six','seven','eight','nine']\n",
    "\n",
    "with open('AOC_DAY1P1_IN.txt') as input:\n",
    "    while True:\n",
    "        line = input.readline()\n",
    "        if not line:\n",
    "            break\n",
    "        \n",
    "        dict_x = dict((idx,int(i)) for idx,i in enumerate([*line]) if i.isdigit())\n",
    "        \n",
    "        for i in range(9):\n",
    "            idx = [m.start() for m in re.finditer(digit_words[i], line)]\n",
    "            for x in idx:\n",
    "                dict_x[x] = i+1\n",
    "                \n",
    "        sorted_dict = dict(sorted(dict_x.items()))\n",
    "        sum += int('%d%d' % (sorted_dict[list(sorted_dict)[0]], sorted_dict[list(sorted_dict)[-1]]))\n",
    "      \n",
    "print(sum)"
   ]
  },
  {
   "cell_type": "code",
   "execution_count": null,
   "id": "8bb63964",
   "metadata": {},
   "outputs": [],
   "source": []
  }
 ],
 "metadata": {
  "kernelspec": {
   "display_name": "Python 3 (ipykernel)",
   "language": "python",
   "name": "python3"
  },
  "language_info": {
   "codemirror_mode": {
    "name": "ipython",
    "version": 3
   },
   "file_extension": ".py",
   "mimetype": "text/x-python",
   "name": "python",
   "nbconvert_exporter": "python",
   "pygments_lexer": "ipython3",
   "version": "3.9.13"
  }
 },
 "nbformat": 4,
 "nbformat_minor": 5
}
